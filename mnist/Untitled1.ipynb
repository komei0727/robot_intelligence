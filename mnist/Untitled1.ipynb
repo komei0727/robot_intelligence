{
 "cells": [
  {
   "cell_type": "code",
   "execution_count": 1,
   "metadata": {},
   "outputs": [],
   "source": [
    "import pickle\n",
    "import numpy as np"
   ]
  },
  {
   "cell_type": "code",
   "execution_count": 3,
   "metadata": {},
   "outputs": [],
   "source": [
    "save_file = '/Users/komei0727/workspace/robot_intelligence/data/mnist.pkl'\n",
    "with open(save_file, 'rb') as f:\n",
    "    dataset = pickle.load(f)\n",
    "\n",
    "train_img,train_label,test_img,test_label = dataset\n",
    "\n",
    "#画素値を0~1の間の値に変換\n",
    "train_img = train_img / 255\n",
    "test_img = test_img / 255\n",
    "train_img = train_img.astype(np.float32)\n",
    "#ラベルをone-hot表現で表す\n",
    "train_label = [int(x) for x in train_label]\n",
    "train_label_one_hot = np.identity(10)[train_label].astype(np.float32)\n",
    "test_label = [int(x) for x in test_label]\n",
    "test_label_one_hot = np.identity(10)[test_label]"
   ]
  },
  {
   "cell_type": "code",
   "execution_count": 4,
   "metadata": {},
   "outputs": [],
   "source": [
    "W1 = np.random.normal(loc = 0.0, scale = np.sqrt(1.0/784), size = (784, 200)).astype(np.float32)\n",
    "W2 = np.random.normal(loc = 0.0, scale = np.sqrt(1.0/200), size = (200, 10)).astype(np.float32)\n",
    "b1 = np.zeros(shape = (1, 200), dtype = np.float32)\n",
    "b2 = np.zeros(shape = (1, 10), dtype = np.float32)"
   ]
  },
  {
   "cell_type": "code",
   "execution_count": 46,
   "metadata": {},
   "outputs": [],
   "source": [
    "def sigmoid(x):\n",
    "    return 1 / (1 + np.exp(-x))\n",
    "\n",
    "def softmax(x):\n",
    "    e = np.exp(x)\n",
    "    return e / np.sum(e)\n",
    "\n",
    "def sigmoid_dash(x):\n",
    "    return x * (1 - x)\n",
    "\n",
    "def cross_entropy(y, t):\n",
    "    E = 0.0\n",
    "    for i in range(len(t[0])):\n",
    "        E = E - t[0][i]*np.log(y[0][i])\n",
    "    return E.astype(np.float32)"
   ]
  },
  {
   "cell_type": "code",
   "execution_count": 5,
   "metadata": {},
   "outputs": [],
   "source": [
    "x = train_img[0]"
   ]
  },
  {
   "cell_type": "code",
   "execution_count": 6,
   "metadata": {},
   "outputs": [],
   "source": [
    "u1 = np.dot(x, W1) + b1"
   ]
  },
  {
   "cell_type": "code",
   "execution_count": 12,
   "metadata": {},
   "outputs": [],
   "source": [
    "z1 = sigmoid(u1)"
   ]
  },
  {
   "cell_type": "code",
   "execution_count": 14,
   "metadata": {},
   "outputs": [],
   "source": [
    "u2 = np.dot(z1, W2) + b2"
   ]
  },
  {
   "cell_type": "code",
   "execution_count": 17,
   "metadata": {},
   "outputs": [],
   "source": [
    "z2 = softmax(u2)"
   ]
  },
  {
   "cell_type": "code",
   "execution_count": 18,
   "metadata": {},
   "outputs": [],
   "source": [
    "y = z2"
   ]
  },
  {
   "cell_type": "code",
   "execution_count": 19,
   "metadata": {},
   "outputs": [],
   "source": [
    "d = train_label_one_hot[0]"
   ]
  },
  {
   "cell_type": "code",
   "execution_count": 22,
   "metadata": {},
   "outputs": [],
   "source": [
    "delta2 = y - d"
   ]
  },
  {
   "cell_type": "code",
   "execution_count": 24,
   "metadata": {},
   "outputs": [],
   "source": [
    "W2_g = np.dot(z1.T, delta2)"
   ]
  },
  {
   "cell_type": "code",
   "execution_count": 31,
   "metadata": {},
   "outputs": [],
   "source": [
    "b2_g = delta2"
   ]
  },
  {
   "cell_type": "code",
   "execution_count": 53,
   "metadata": {},
   "outputs": [],
   "source": [
    "delta1 = np.array([np.sum(delta2*W2*sigmoid_dash(z1).T, axis=1)])"
   ]
  },
  {
   "cell_type": "code",
   "execution_count": 66,
   "metadata": {},
   "outputs": [],
   "source": [
    "W1_g = np.dot(np.array([x]).T, delta1)"
   ]
  },
  {
   "cell_type": "code",
   "execution_count": 56,
   "metadata": {},
   "outputs": [],
   "source": [
    "b1_g = delta1"
   ]
  },
  {
   "cell_type": "code",
   "execution_count": 67,
   "metadata": {},
   "outputs": [
    {
     "data": {
      "text/plain": [
       "array([[ 0.00563938,  0.01340188, -0.00315171, ...,  0.01072057,\n",
       "         0.00303231, -0.01439671],\n",
       "       [-0.03915057,  0.01406019, -0.02274988, ..., -0.0142651 ,\n",
       "        -0.07670706,  0.03317168],\n",
       "       [-0.03077852,  0.02211996,  0.01592824, ...,  0.00393565,\n",
       "        -0.07758915,  0.03088435],\n",
       "       ...,\n",
       "       [ 0.01428768,  0.04127844, -0.05464423, ...,  0.04485237,\n",
       "         0.00161294,  0.08793727],\n",
       "       [-0.05904477,  0.01324437,  0.01449402, ..., -0.02551041,\n",
       "         0.02313843, -0.01641174],\n",
       "       [ 0.00485252,  0.03273388, -0.03287735, ...,  0.02532258,\n",
       "        -0.05310793,  0.02236965]], dtype=float32)"
      ]
     },
     "execution_count": 67,
     "metadata": {},
     "output_type": "execute_result"
    }
   ],
   "source": [
    "W1 - W1_g*0.01"
   ]
  },
  {
   "cell_type": "code",
   "execution_count": 68,
   "metadata": {},
   "outputs": [
    {
     "data": {
      "text/plain": [
       "array([[ 0.00563938,  0.01340188, -0.00315171, ...,  0.01072057,\n",
       "         0.00303231, -0.01439671],\n",
       "       [-0.03915057,  0.01406019, -0.02274988, ..., -0.0142651 ,\n",
       "        -0.07670706,  0.03317168],\n",
       "       [-0.03077852,  0.02211996,  0.01592824, ...,  0.00393565,\n",
       "        -0.07758915,  0.03088435],\n",
       "       ...,\n",
       "       [ 0.01428768,  0.04127844, -0.05464423, ...,  0.04485237,\n",
       "         0.00161294,  0.08793727],\n",
       "       [-0.05904477,  0.01324437,  0.01449402, ..., -0.02551041,\n",
       "         0.02313843, -0.01641174],\n",
       "       [ 0.00485252,  0.03273388, -0.03287735, ...,  0.02532258,\n",
       "        -0.05310793,  0.02236965]], dtype=float32)"
      ]
     },
     "execution_count": 68,
     "metadata": {},
     "output_type": "execute_result"
    }
   ],
   "source": [
    "W1"
   ]
  },
  {
   "cell_type": "code",
   "execution_count": 70,
   "metadata": {},
   "outputs": [
    {
     "data": {
      "text/plain": [
       "array([[-0.00053578, -0.00081073, -0.00118495, -0.0013949 , -0.00162032,\n",
       "         0.00905319, -0.0009633 , -0.00065695, -0.00084571, -0.00104055]],\n",
       "      dtype=float32)"
      ]
     },
     "execution_count": 70,
     "metadata": {},
     "output_type": "execute_result"
    }
   ],
   "source": [
    "b2-b2_g*0.01"
   ]
  },
  {
   "cell_type": "code",
   "execution_count": null,
   "metadata": {},
   "outputs": [],
   "source": []
  }
 ],
 "metadata": {
  "kernelspec": {
   "display_name": "Python 3",
   "language": "python",
   "name": "python3"
  },
  "language_info": {
   "codemirror_mode": {
    "name": "ipython",
    "version": 3
   },
   "file_extension": ".py",
   "mimetype": "text/x-python",
   "name": "python",
   "nbconvert_exporter": "python",
   "pygments_lexer": "ipython3",
   "version": "3.7.3"
  }
 },
 "nbformat": 4,
 "nbformat_minor": 2
}
